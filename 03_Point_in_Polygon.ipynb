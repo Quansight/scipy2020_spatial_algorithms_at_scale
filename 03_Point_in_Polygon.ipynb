{
 "cells": [
  {
   "cell_type": "code",
   "execution_count": null,
   "metadata": {},
   "outputs": [],
   "source": [
    "import spatialpandas as spd\n",
    "from spatialpandas.io import read_parquet, read_parquet_dask\n",
    "import geopandas as gpd\n",
    "from pathlib import Path\n",
    "from distributed import LocalCluster, Client\n",
    "import numpy as np\n",
    "import dask.dataframe as dd"
   ]
  },
  {
   "cell_type": "markdown",
   "metadata": {},
   "source": [
    "### Set up the cluster for running Dask"
   ]
  },
  {
   "cell_type": "code",
   "execution_count": null,
   "metadata": {},
   "outputs": [],
   "source": [
    "cluster = LocalCluster(#silence_logs=logging.ERROR,\n",
    "                       dashboard_address=':3737',\n",
    "                       n_workers=4,\n",
    "                       threads_per_worker=2,\n",
    "                       memory_limit='3 GB')\n",
    "\n",
    "client = Client(cluster)\n",
    "client"
   ]
  },
  {
   "cell_type": "code",
   "execution_count": null,
   "metadata": {},
   "outputs": [],
   "source": [
    "# set path to the spatially sorted data\n",
    "spatial_sort_path = '/work/kcpevey/scipy/us_cont_spatiallysorted.parquet'\n",
    "# read spatially sorted data\n",
    "sddf = read_parquet_dask(spatial_sort_path)\n",
    "print(type(sddf))\n",
    "sddf"
   ]
  },
  {
   "cell_type": "markdown",
   "metadata": {},
   "source": [
    "### Load the zip code polygons"
   ]
  },
  {
   "cell_type": "code",
   "execution_count": null,
   "metadata": {},
   "outputs": [],
   "source": [
    "subsample_sizes = [1, 10, 100, 1000, 10000]\n",
    "sample_size = subsample_sizes[0]\n",
    "zip_dir = Path('/home/kcpevey/scipy/git/data')\n",
    "zip_path = zip_dir.joinpath(f'zips_{sample_size}.geojson')"
   ]
  },
  {
   "cell_type": "code",
   "execution_count": null,
   "metadata": {},
   "outputs": [],
   "source": [
    "# load the zipcode file\n",
    "gdf = gpd.read_file(zip_path, driver='GeoJSON')\n",
    "# remove extraneous column\n",
    "del gdf['index_right']\n",
    "# convert to spatialpandas geodataframe\n",
    "sdf = spd.geodataframe.GeoDataFrame(gdf, geometry='geometry')\n",
    "sdf"
   ]
  },
  {
   "cell_type": "code",
   "execution_count": null,
   "metadata": {},
   "outputs": [],
   "source": [
    "# join the dataframes (point in polygon)\n",
    "joined = spd.sjoin(sddf, sdf, how='inner', lsuffix='_', rsuffix='_')\n",
    "joined"
   ]
  },
  {
   "cell_type": "code",
   "execution_count": null,
   "metadata": {},
   "outputs": [],
   "source": []
  }
 ],
 "metadata": {
  "kernelspec": {
   "display_name": "Python 3",
   "language": "python",
   "name": "python3"
  },
  "language_info": {
   "codemirror_mode": {
    "name": "ipython",
    "version": 3
   },
   "file_extension": ".py",
   "mimetype": "text/x-python",
   "name": "python",
   "nbconvert_exporter": "python",
   "pygments_lexer": "ipython3",
   "version": "3.8.3"
  }
 },
 "nbformat": 4,
 "nbformat_minor": 4
}
