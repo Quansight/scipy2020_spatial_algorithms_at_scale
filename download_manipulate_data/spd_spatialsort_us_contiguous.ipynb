{
 "cells": [
  {
   "cell_type": "code",
   "execution_count": 1,
   "metadata": {},
   "outputs": [],
   "source": [
    "import time\n",
    "from datetime import datetime\n",
    "import dask.dataframe as dd\n",
    "from distributed import LocalCluster, Client\n",
    "import spatialpandas as spd\n",
    "from spatialpandas.geometry import (\n",
    "    PointArray, MultiPointArray, LineArray,\n",
    "    MultiLineArray, PolygonArray, MultiPolygonArray\n",
    ")\n",
    "from spatialpandas import GeoSeries, GeoDataFrame\n",
    "%matplotlib inline"
   ]
  },
  {
   "cell_type": "code",
   "execution_count": 2,
   "metadata": {},
   "outputs": [
    {
     "data": {
      "text/html": [
       "<table style=\"border: 2px solid white;\">\n",
       "<tr>\n",
       "<td style=\"vertical-align: top; border: 0px solid white\">\n",
       "<h3 style=\"text-align: left;\">Client</h3>\n",
       "<ul style=\"text-align: left; list-style: none; margin: 0; padding: 0;\">\n",
       "  <li><b>Scheduler: </b>tcp://127.0.0.1:46665</li>\n",
       "  <li><b>Dashboard: </b><a href='http://127.0.0.1:8790/status' target='_blank'>http://127.0.0.1:8790/status</a></li>\n",
       "</ul>\n",
       "</td>\n",
       "<td style=\"vertical-align: top; border: 0px solid white\">\n",
       "<h3 style=\"text-align: left;\">Cluster</h3>\n",
       "<ul style=\"text-align: left; list-style:none; margin: 0; padding: 0;\">\n",
       "  <li><b>Workers: </b>4</li>\n",
       "  <li><b>Cores: </b>8</li>\n",
       "  <li><b>Memory: </b>12.00 GB</li>\n",
       "</ul>\n",
       "</td>\n",
       "</tr>\n",
       "</table>"
      ],
      "text/plain": [
       "<Client: 'tcp://127.0.0.1:46665' processes=4 threads=8, memory=12.00 GB>"
      ]
     },
     "execution_count": 2,
     "metadata": {},
     "output_type": "execute_result"
    }
   ],
   "source": [
    "cluster = LocalCluster(#silence_logs=logging.ERROR,\n",
    "                       dashboard_address=':8790',\n",
    "                       n_workers=4,\n",
    "                       threads_per_worker=2,\n",
    "                       memory_limit='3 GB')\n",
    "\n",
    "\n",
    "client = Client(cluster)\n",
    "client"
   ]
  },
  {
   "cell_type": "code",
   "execution_count": 3,
   "metadata": {},
   "outputs": [],
   "source": [
    "cont_us_path = \"/home/kcpevey/scipy/git/data/contiguous_us.parquet\"\n",
    "ddf = dd.read_parquet(cont_us_path)"
   ]
  },
  {
   "cell_type": "code",
   "execution_count": 4,
   "metadata": {},
   "outputs": [],
   "source": [
    "df = ddf.map_partitions(\n",
    "    lambda df: GeoDataFrame(dict(\n",
    "        position=PointArray(df[['longitude', 'latitude']]),\n",
    "        **{col: df[col] for col in df.columns}\n",
    "    ))\n",
    ")"
   ]
  },
  {
   "cell_type": "code",
   "execution_count": 5,
   "metadata": {},
   "outputs": [],
   "source": [
    "# df = df.partitions[:10]"
   ]
  },
  {
   "cell_type": "code",
   "execution_count": 6,
   "metadata": {},
   "outputs": [],
   "source": [
    "savepath = '/work/spd-scipy2020/us_cont_spatiallysorted.parquet'"
   ]
  },
  {
   "cell_type": "code",
   "execution_count": 7,
   "metadata": {},
   "outputs": [],
   "source": [
    "t0 = time.time()\n",
    "df.pack_partitions(npartitions=df.npartitions, shuffle='disk').to_parquet(savepath)\n",
    "dt = time.time() - t0"
   ]
  },
  {
   "cell_type": "code",
   "execution_count": 8,
   "metadata": {},
   "outputs": [],
   "source": [
    "with open(f'spatial_sort_time-{datetime.now()}.csv', 'w') as f:\n",
    "    f.write(f'time_min,npartitions\\n{dt/60},{df.npartitions}')"
   ]
  },
  {
   "cell_type": "code",
   "execution_count": 9,
   "metadata": {},
   "outputs": [
    {
     "data": {
      "text/html": [
       "<div>\n",
       "<style scoped>\n",
       "    .dataframe tbody tr th:only-of-type {\n",
       "        vertical-align: middle;\n",
       "    }\n",
       "\n",
       "    .dataframe tbody tr th {\n",
       "        vertical-align: top;\n",
       "    }\n",
       "\n",
       "    .dataframe thead th {\n",
       "        text-align: right;\n",
       "    }\n",
       "</style>\n",
       "<table border=\"1\" class=\"dataframe\">\n",
       "  <thead>\n",
       "    <tr style=\"text-align: right;\">\n",
       "      <th></th>\n",
       "      <th>position</th>\n",
       "      <th>latitude</th>\n",
       "      <th>longitude</th>\n",
       "    </tr>\n",
       "    <tr>\n",
       "      <th>hilbert_distance</th>\n",
       "      <th></th>\n",
       "      <th></th>\n",
       "      <th></th>\n",
       "    </tr>\n",
       "  </thead>\n",
       "  <tbody>\n",
       "    <tr>\n",
       "      <th>25629</th>\n",
       "      <td>Point([-124.443, 24.447])</td>\n",
       "      <td>24.447</td>\n",
       "      <td>-124.443</td>\n",
       "    </tr>\n",
       "    <tr>\n",
       "      <th>99850</th>\n",
       "      <td>Point([-124.532, 24.704])</td>\n",
       "      <td>24.704</td>\n",
       "      <td>-124.532</td>\n",
       "    </tr>\n",
       "    <tr>\n",
       "      <th>216826</th>\n",
       "      <td>Point([-124.248, 24.591])</td>\n",
       "      <td>24.591</td>\n",
       "      <td>-124.248</td>\n",
       "    </tr>\n",
       "    <tr>\n",
       "      <th>253418</th>\n",
       "      <td>Point([-124.085, 24.463])</td>\n",
       "      <td>24.463</td>\n",
       "      <td>-124.085</td>\n",
       "    </tr>\n",
       "    <tr>\n",
       "      <th>290728</th>\n",
       "      <td>Point([-123.719, 24.554])</td>\n",
       "      <td>24.554</td>\n",
       "      <td>-123.719</td>\n",
       "    </tr>\n",
       "  </tbody>\n",
       "</table>\n",
       "</div>"
      ],
      "text/plain": [
       "                                   position  latitude  longitude\n",
       "hilbert_distance                                                \n",
       "25629             Point([-124.443, 24.447])    24.447   -124.443\n",
       "99850             Point([-124.532, 24.704])    24.704   -124.532\n",
       "216826            Point([-124.248, 24.591])    24.591   -124.248\n",
       "253418            Point([-124.085, 24.463])    24.463   -124.085\n",
       "290728            Point([-123.719, 24.554])    24.554   -123.719"
      ]
     },
     "execution_count": 9,
     "metadata": {},
     "output_type": "execute_result"
    }
   ],
   "source": [
    "df = spd.io.read_parquet_dask(savepath)\n",
    "df.head()"
   ]
  },
  {
   "cell_type": "code",
   "execution_count": null,
   "metadata": {},
   "outputs": [],
   "source": []
  }
 ],
 "metadata": {
  "kernelspec": {
   "display_name": "Python 3",
   "language": "python",
   "name": "python3"
  },
  "language_info": {
   "codemirror_mode": {
    "name": "ipython",
    "version": 3
   },
   "file_extension": ".py",
   "mimetype": "text/x-python",
   "name": "python",
   "nbconvert_exporter": "python",
   "pygments_lexer": "ipython3",
   "version": "3.8.3"
  }
 },
 "nbformat": 4,
 "nbformat_minor": 4
}
