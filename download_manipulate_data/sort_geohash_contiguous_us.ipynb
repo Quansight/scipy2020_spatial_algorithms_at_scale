{
 "cells": [
  {
   "cell_type": "code",
   "execution_count": 1,
   "metadata": {},
   "outputs": [],
   "source": [
    "import logging\n",
    "import time\n",
    "from datetime import datetime\n",
    "\n",
    "import geohash\n",
    "import numpy as np\n",
    "import pandas as pd\n",
    "import geopandas as gpd\n",
    "import dask\n",
    "import dask.dataframe as dd\n",
    "import dask.config\n",
    "from distributed import LocalCluster, Client"
   ]
  },
  {
   "cell_type": "code",
   "execution_count": 2,
   "metadata": {},
   "outputs": [],
   "source": [
    "# dask.config.config['distributed']['comm']['timeouts']['connect'] = '300s'\n",
    "# dask.config.config['distributed']['scheduler']['allowed-failures'] = 12\n",
    "# dask.config.config['distributed']['worker']['memory'] = {'target': 0.3, 'spill': 0.5, 'pause': 0.7, 'terminate': 0.95}"
   ]
  },
  {
   "cell_type": "code",
   "execution_count": null,
   "metadata": {},
   "outputs": [],
   "source": [
    "n_workers=2\n",
    "cluster = LocalCluster(n_workers=n_workers, threads_per_worker=6, memory_limit=f'{20E9/n_workers}')#silence_logs=logging.ERROR)\n",
    "client = Client(cluster)\n",
    "client"
   ]
  },
  {
   "cell_type": "code",
   "execution_count": 4,
   "metadata": {},
   "outputs": [
    {
     "data": {
      "text/html": [
       "<div>\n",
       "<style scoped>\n",
       "    .dataframe tbody tr th:only-of-type {\n",
       "        vertical-align: middle;\n",
       "    }\n",
       "\n",
       "    .dataframe tbody tr th {\n",
       "        vertical-align: top;\n",
       "    }\n",
       "\n",
       "    .dataframe thead th {\n",
       "        text-align: right;\n",
       "    }\n",
       "</style>\n",
       "<table border=\"1\" class=\"dataframe\">\n",
       "  <thead>\n",
       "    <tr style=\"text-align: right;\">\n",
       "      <th></th>\n",
       "      <th>latitude</th>\n",
       "      <th>longitude</th>\n",
       "      <th>geohash</th>\n",
       "    </tr>\n",
       "    <tr>\n",
       "      <th>index</th>\n",
       "      <th></th>\n",
       "      <th></th>\n",
       "      <th></th>\n",
       "    </tr>\n",
       "  </thead>\n",
       "  <tbody>\n",
       "    <tr>\n",
       "      <th>38605</th>\n",
       "      <td>24.396309</td>\n",
       "      <td>-75.881459</td>\n",
       "      <td>dk64c30ycce4</td>\n",
       "    </tr>\n",
       "    <tr>\n",
       "      <th>38630</th>\n",
       "      <td>24.396317</td>\n",
       "      <td>-109.907775</td>\n",
       "      <td>9s3ffcpwg5p1</td>\n",
       "    </tr>\n",
       "    <tr>\n",
       "      <th>38638</th>\n",
       "      <td>24.396320</td>\n",
       "      <td>-81.164672</td>\n",
       "      <td>dhq6c11wy5dj</td>\n",
       "    </tr>\n",
       "    <tr>\n",
       "      <th>38639</th>\n",
       "      <td>24.396320</td>\n",
       "      <td>-77.226879</td>\n",
       "      <td>dk34f9jng79m</td>\n",
       "    </tr>\n",
       "    <tr>\n",
       "      <th>38689</th>\n",
       "      <td>24.396338</td>\n",
       "      <td>-75.171110</td>\n",
       "      <td>dk6dc3nnfnvw</td>\n",
       "    </tr>\n",
       "  </tbody>\n",
       "</table>\n",
       "</div>"
      ],
      "text/plain": [
       "        latitude   longitude       geohash\n",
       "index                                     \n",
       "38605  24.396309  -75.881459  dk64c30ycce4\n",
       "38630  24.396317 -109.907775  9s3ffcpwg5p1\n",
       "38638  24.396320  -81.164672  dhq6c11wy5dj\n",
       "38639  24.396320  -77.226879  dk34f9jng79m\n",
       "38689  24.396338  -75.171110  dk6dc3nnfnvw"
      ]
     },
     "execution_count": 4,
     "metadata": {},
     "output_type": "execute_result"
    }
   ],
   "source": [
    "df = dd.read_parquet('../data/contiguous_us_w_geohash.parquet', engine='pyarrow')\n",
    "df.head()"
   ]
  },
  {
   "cell_type": "code",
   "execution_count": 5,
   "metadata": {},
   "outputs": [
    {
     "name": "stdout",
     "output_type": "stream",
     "text": [
      "CPU times: user 20.7 s, sys: 2.27 s, total: 23 s\n",
      "Wall time: 5min 16s\n"
     ]
    }
   ],
   "source": [
    "%%time \n",
    "t0 = time.time()\n",
    "df.set_index('geohash', shuffle='disk').to_parquet('../data/contiguous_us_geohash_sorted.parquet')\n",
    "dt_hr = (time.time() - t0)/60/60"
   ]
  },
  {
   "cell_type": "code",
   "execution_count": 6,
   "metadata": {},
   "outputs": [],
   "source": [
    "with open(f'{datetime.now()}_us_geohash_sort_time.csv', 'w') as f:\n",
    "    f.write(f'dt_hr, {dt_hr}')"
   ]
  }
 ],
 "metadata": {
  "kernelspec": {
   "display_name": "Python 3",
   "language": "python",
   "name": "python3"
  },
  "language_info": {
   "codemirror_mode": {
    "name": "ipython",
    "version": 3
   },
   "file_extension": ".py",
   "mimetype": "text/x-python",
   "name": "python",
   "nbconvert_exporter": "python",
   "pygments_lexer": "ipython3",
   "version": "3.8.3"
  }
 },
 "nbformat": 4,
 "nbformat_minor": 4
}
