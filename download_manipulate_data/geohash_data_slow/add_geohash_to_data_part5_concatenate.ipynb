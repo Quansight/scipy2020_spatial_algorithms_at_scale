{
 "cells": [
  {
   "cell_type": "code",
   "execution_count": 4,
   "metadata": {},
   "outputs": [],
   "source": [
    "import logging\n",
    "import time\n",
    "from datetime import datetime\n",
    "from pathlib import Path\n",
    "\n",
    "import geohash\n",
    "import numpy as np\n",
    "import pandas as pd\n",
    "import geopandas as gpd\n",
    "import dask\n",
    "import dask.dataframe as dd\n",
    "from distributed import LocalCluster, Client"
   ]
  },
  {
   "cell_type": "code",
   "execution_count": null,
   "metadata": {},
   "outputs": [],
   "source": [
    "cluster = LocalCluster(n_workers=2, threads_per_worker=4)#silence_logs=logging.ERROR)\n",
    "client = Client(cluster)\n",
    "client"
   ]
  },
  {
   "cell_type": "code",
   "execution_count": 3,
   "metadata": {},
   "outputs": [],
   "source": [
    "# allow many retries\n",
    "dask.config.config['distributed']['scheduler']['allowed-failures'] = 10"
   ]
  },
  {
   "cell_type": "code",
   "execution_count": 17,
   "metadata": {},
   "outputs": [
    {
     "data": {
      "text/plain": [
       "PosixPath('/work/spd-scipy2020/download_manipulate_data')"
      ]
     },
     "execution_count": 17,
     "metadata": {},
     "output_type": "execute_result"
    }
   ],
   "source": [
    "Path.cwd()"
   ]
  },
  {
   "cell_type": "code",
   "execution_count": null,
   "metadata": {},
   "outputs": [
    {
     "name": "stdout",
     "output_type": "stream",
     "text": [
      "../data/geohashed_gps_points3/0000\n",
      "../data/geohashed_gps_points3/0100\n",
      "../data/geohashed_gps_points3/0200\n",
      "../data/geohashed_gps_points3/0300\n",
      "../data/geohashed_gps_points3/0400\n",
      "../data/geohashed_gps_points3/0500\n",
      "../data/geohashed_gps_points3/0600\n",
      "../data/geohashed_gps_points3/0700\n",
      "../data/geohashed_gps_points3/0800\n",
      "../data/geohashed_gps_points3/0900\n",
      "../data/geohashed_gps_points3/1000\n",
      "../data/geohashed_gps_points3/1100\n",
      "../data/geohashed_gps_points3/1200\n"
     ]
    }
   ],
   "source": [
    "%%time\n",
    "dfs = []\n",
    "for i, path in enumerate(sorted(list(Path('../data/geohashed_gps_points3').glob('????')))):\n",
    "    if i % 100 == 0:\n",
    "        print(path)\n",
    "    dfs.append(dd.read_parquet(path))\n",
    "df = dd.concat(dfs)\n",
    "df.to_parquet('../data/geohashed_gps_points7')"
   ]
  },
  {
   "cell_type": "code",
   "execution_count": 38,
   "metadata": {},
   "outputs": [
    {
     "data": {
      "text/plain": [
       "2899550649"
      ]
     },
     "execution_count": 38,
     "metadata": {},
     "output_type": "execute_result"
    }
   ],
   "source": [
    "df = dd.read_parquet('../data/geohashed_gps_points7')\n",
    "len(df)"
   ]
  },
  {
   "cell_type": "code",
   "execution_count": 35,
   "metadata": {},
   "outputs": [
    {
     "data": {
      "text/plain": [
       "PosixPath('../data/geohashed_gps_points3')"
      ]
     },
     "execution_count": 35,
     "metadata": {},
     "output_type": "execute_result"
    }
   ],
   "source": [
    "path.parent"
   ]
  },
  {
   "cell_type": "code",
   "execution_count": null,
   "metadata": {},
   "outputs": [],
   "source": [
    "df"
   ]
  },
  {
   "cell_type": "code",
   "execution_count": 5,
   "metadata": {},
   "outputs": [],
   "source": [
    "df = dd.read_parquet('../data/resaved-gps-points', engine='pyarrow')\n",
    "# df = df.partitions[1217:].loc[:1_000_000, :].repartition(npartitions=8).persist()\n",
    "# df.head()"
   ]
  },
  {
   "cell_type": "code",
   "execution_count": 8,
   "metadata": {},
   "outputs": [],
   "source": [
    "def geohash_world(df):\n",
    "    if 'geohash' not in df.columns:\n",
    "        df['geohash'] = ''\n",
    "    lat90indices = (df.latitude == 90)\n",
    "    df.loc[lat90indices, 'geohash'] = 'zzzzzzzzzzzz'\n",
    "    valid_indices = (df.longitude.between(-180, 180)) & (df.latitude >= -90) & (df.latitude < 90)\n",
    "    df.loc[valid_indices, 'geohash'] = df.loc[valid_indices, :].apply(lambda row: geohash.encode(row.latitude, row.longitude), axis=1)\n",
    "    return df"
   ]
  },
  {
   "cell_type": "code",
   "execution_count": 12,
   "metadata": {},
   "outputs": [
    {
     "name": "stdout",
     "output_type": "stream",
     "text": [
      "1217\n",
      "CPU times: user 962 ms, sys: 289 ms, total: 1.25 s\n",
      "Wall time: 49.2 s\n"
     ]
    }
   ],
   "source": [
    "%%time \n",
    "t0 = time.time()\n",
    "dfs = []\n",
    "\n",
    "with open(f'{datetime.now()}_log.txt', 'w') as f:\n",
    "    for i in range(1217, 1218):\n",
    "        print(i)\n",
    "        try:\n",
    "            temp_df = df.partitions[i]\n",
    "            temp_df = temp_df.map_partitions(geohash_world, meta={'latitude': float, 'longitude': float, 'geohash': 'object'})\n",
    "            temp_df.to_parquet(f'../data/geohashed_gps_points3/{i:04d}')\n",
    "        except Exception as e:\n",
    "            msg = str(e) + f'\\n partition {i:04d} \\n ---'\n",
    "            print(msg)\n",
    "            f.write(msg)\n",
    "dt_hr = (time.time() - t0)/60/60"
   ]
  },
  {
   "cell_type": "code",
   "execution_count": null,
   "metadata": {},
   "outputs": [],
   "source": []
  }
 ],
 "metadata": {
  "kernelspec": {
   "display_name": "Python 3",
   "language": "python",
   "name": "python3"
  },
  "language_info": {
   "codemirror_mode": {
    "name": "ipython",
    "version": 3
   },
   "file_extension": ".py",
   "mimetype": "text/x-python",
   "name": "python",
   "nbconvert_exporter": "python",
   "pygments_lexer": "ipython3",
   "version": "3.8.3"
  }
 },
 "nbformat": 4,
 "nbformat_minor": 4
}
