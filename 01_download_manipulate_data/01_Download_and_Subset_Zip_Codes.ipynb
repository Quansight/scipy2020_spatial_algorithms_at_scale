{
 "cells": [
  {
   "cell_type": "code",
   "execution_count": null,
   "metadata": {},
   "outputs": [],
   "source": [
    "import geopandas as gpd\n",
    "import hvplot.pandas\n",
    "import io\n",
    "from pathlib import Path\n",
    "import requests\n",
    "from shapely.geometry import Polygon, box\n",
    "import zipfile"
   ]
  },
  {
   "cell_type": "code",
   "execution_count": null,
   "metadata": {},
   "outputs": [],
   "source": [
    "# set up data paths\n",
    "base_path = Path().cwd().parent\n",
    "data_dir = base_path.joinpath('data')\n",
    "zip_dir = data_dir.joinpath('zip_codes')"
   ]
  },
  {
   "cell_type": "markdown",
   "metadata": {},
   "source": [
    "### Download the zip code polygons"
   ]
  },
  {
   "cell_type": "code",
   "execution_count": null,
   "metadata": {},
   "outputs": [],
   "source": [
    "# create title and url for zip code data\n",
    "title = 'US Census Data - Zip Code Boundaries'\n",
    "url = 'https://www2.census.gov/geo/tiger/TIGER2019/ZCTA5/tl_2019_us_zcta510.zip'\n",
    "\n",
    "print(f\"Downloading {title} \\n    From: {url}\\n    To: {zip_dir}\")\n",
    "\n",
    "# get the remote data (may take up to 30 minutes)\n",
    "r = requests.get(url)\n",
    "# convert to zipfile format\n",
    "z = zipfile.ZipFile(io.BytesIO(r.content))\n",
    "# extract the zip contents\n",
    "z.extractall(zip_dir)"
   ]
  },
  {
   "cell_type": "markdown",
   "metadata": {},
   "source": [
    "### View the polygons"
   ]
  },
  {
   "cell_type": "code",
   "execution_count": null,
   "metadata": {},
   "outputs": [],
   "source": [
    "# construct path to the shapefile\n",
    "shapefile = f\"{zip_dir}/tl_2019_us_zcta510.shp\"\n",
    "# load the shapefile into geopandas\n",
    "gdf = gpd.read_file(shapefile, driver=\"shapefile\")\n",
    "# view the head\n",
    "display(gdf.head())\n",
    "gdf.head().hvplot(geo=True, tiles='OSM')"
   ]
  },
  {
   "cell_type": "markdown",
   "metadata": {},
   "source": [
    "### Filter out Multipolygons (for simplicity) and zip codes outside the contiguous US"
   ]
  },
  {
   "cell_type": "code",
   "execution_count": null,
   "metadata": {},
   "outputs": [],
   "source": [
    "contiguous_us_bounding_box = box(-124.848974, 24.396308, -66.885444, 49.384358)\n",
    "contiguous_us_bbox_gdf = gpd.GeoDataFrame(geometry=[contiguous_us_bounding_box], crs='epsg:4326')\n",
    "zips_all = gdf.loc[:, ['GEOID10', 'geometry']].to_crs('epsg:4326')\n",
    "zips_subset = gpd.sjoin(zips_all, contiguous_us_bbox_gdf, op='within')\n",
    "keep_indices = zips_subset.geometry.apply(lambda x: True if type(x)==Polygon else False)\n",
    "zips_subset = zips_subset[keep_indices]"
   ]
  },
  {
   "cell_type": "markdown",
   "metadata": {},
   "source": [
    "### Create subsets"
   ]
  },
  {
   "cell_type": "code",
   "execution_count": null,
   "metadata": {},
   "outputs": [],
   "source": [
    "# Save various size subsets of the zip code data\n",
    "for sample_size in [1, 10, 100, 1000, 10000, len(zips_subset)]:\n",
    "    zips_subset.sample(sample_size, random_state=42).to_file(zip_dir.joinpath(f'zips_{sample_size}.geojson'),\n",
    "                                                             driver='GeoJSON')"
   ]
  }
 ],
 "metadata": {
  "kernelspec": {
   "display_name": "Python 3",
   "language": "python",
   "name": "python3"
  },
  "language_info": {
   "codemirror_mode": {
    "name": "ipython",
    "version": 3
   },
   "file_extension": ".py",
   "mimetype": "text/x-python",
   "name": "python",
   "nbconvert_exporter": "python",
   "pygments_lexer": "ipython3",
   "version": "3.8.3"
  }
 },
 "nbformat": 4,
 "nbformat_minor": 4
}
