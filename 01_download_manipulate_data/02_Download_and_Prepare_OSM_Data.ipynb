{
 "cells": [
  {
   "cell_type": "code",
   "execution_count": null,
   "metadata": {},
   "outputs": [],
   "source": [
    "from pathlib import Path\n",
    "import time\n",
    "import dask.dataframe as dd"
   ]
  },
  {
   "cell_type": "code",
   "execution_count": null,
   "metadata": {},
   "outputs": [],
   "source": [
    "# set up data paths\n",
    "base_path = Path().cwd().parent\n",
    "data_dir = base_path.joinpath('data')"
   ]
  },
  {
   "cell_type": "markdown",
   "metadata": {},
   "source": [
    "### Download and extract OpenStreetMap point data\n",
    "Download from this url: `https://planet.openstreetmap.org/gps/simple-gps-points-120604.csv.xz`  \n",
    "and place it in the `data` folder"
   ]
  },
  {
   "cell_type": "code",
   "execution_count": null,
   "metadata": {},
   "outputs": [],
   "source": [
    "# unpack the xz data using the `unxz` package\n",
    "! unxz -d ../data/simple-gps-points-120604.csv.xz"
   ]
  },
  {
   "cell_type": "code",
   "execution_count": null,
   "metadata": {},
   "outputs": [],
   "source": [
    "# set the output path\n",
    "pt_data_path = data_dir.joinpath('contiguous_us.parquet')"
   ]
  },
  {
   "cell_type": "code",
   "execution_count": null,
   "metadata": {},
   "outputs": [],
   "source": [
    "t0 = time.time()\n",
    "# read in the csv point data\n",
    "ddf = dd.read_csv(data_dir.joinpath('simple-gps-points-120604.csv')).loc[:, ['latitude', 'longitude']]\n",
    "# convert to degrees\n",
    "ddf.latitude = df.latitude/10**7\n",
    "ddf.longitude = df.longitude/10**7\n",
    "\n",
    "# reduce osm data to continguous us\n",
    "usdf = ddf[ddf.latitude.between(24.396308, 49.384358) & ddf.longitude.between(-124.848974, -66.885444)]\n",
    "# write to file\n",
    "usdf.to_parquet(pt_data_path, engine='pyarrow', compression='snappy')\n",
    "dt_hr = (time.time() - t0)/60/60\n",
    "dt_hr"
   ]
  }
 ],
 "metadata": {
  "kernelspec": {
   "display_name": "Python 3",
   "language": "python",
   "name": "python3"
  },
  "language_info": {
   "codemirror_mode": {
    "name": "ipython",
    "version": 3
   },
   "file_extension": ".py",
   "mimetype": "text/x-python",
   "name": "python",
   "nbconvert_exporter": "python",
   "pygments_lexer": "ipython3",
   "version": "3.8.3"
  }
 },
 "nbformat": 4,
 "nbformat_minor": 4
}
