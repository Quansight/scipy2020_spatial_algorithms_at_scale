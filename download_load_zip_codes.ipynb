{
 "cells": [
  {
   "cell_type": "code",
   "execution_count": null,
   "metadata": {},
   "outputs": [],
   "source": [
    "from pathlib import Path\n",
    "import requests\n",
    "import zipfile\n",
    "import io\n",
    "import geopandas as gpd"
   ]
  },
  {
   "cell_type": "code",
   "execution_count": null,
   "metadata": {},
   "outputs": [],
   "source": [
    "# create title and url for zip code data\n",
    "title = 'US Census Data - Zip Code Boundaries'\n",
    "url = 'https://www2.census.gov/geo/tiger/TIGER2019/ZCTA5/tl_2019_us_zcta510.zip'\n",
    "\n",
    "# construct an output directory for the data\n",
    "zip_dir = Path(url).stem\n",
    "\n",
    "print(f\"Downloading {title} \\n    From: {url}\\n    To: {zip_dir}\")\n",
    "\n",
    "# get the remote data\n",
    "r = requests.get(url)\n",
    "# convert to zipfile format\n",
    "z = zipfile.ZipFile(io.BytesIO(r.content))\n",
    "# extract the zip contents\n",
    "z.extractall(zip_dir)"
   ]
  },
  {
   "cell_type": "code",
   "execution_count": null,
   "metadata": {},
   "outputs": [],
   "source": [
    "# construct path to the shapefile\n",
    "shapefile = f\"{zip_dir}/{zip_dir}.shp\"\n",
    "# load the shapefile into geopandas\n",
    "gpd = gpd.read_file(shapefile, driver=\"shapefile\")\n",
    "# view the head\n",
    "gpd.head()"
   ]
  }
 ],
 "metadata": {
  "kernelspec": {
   "display_name": "Python 3",
   "language": "python",
   "name": "python3"
  },
  "language_info": {
   "codemirror_mode": {
    "name": "ipython",
    "version": 3
   },
   "file_extension": ".py",
   "mimetype": "text/x-python",
   "name": "python",
   "nbconvert_exporter": "python",
   "pygments_lexer": "ipython3",
   "version": "3.8.3"
  }
 },
 "nbformat": 4,
 "nbformat_minor": 4
}
