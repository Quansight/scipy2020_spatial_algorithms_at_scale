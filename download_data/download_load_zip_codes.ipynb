{
 "cells": [
  {
   "cell_type": "code",
   "execution_count": 6,
   "metadata": {},
   "outputs": [],
   "source": [
    "from pathlib import Path\n",
    "import requests\n",
    "import zipfile\n",
    "import io\n",
    "import geopandas as gpd\n",
    "import hvplot.pandas"
   ]
  },
  {
   "cell_type": "code",
   "execution_count": 9,
   "metadata": {},
   "outputs": [
    {
     "name": "stdout",
     "output_type": "stream",
     "text": [
      "Downloading US Census Data - Zip Code Boundaries \n",
      "    From: https://www2.census.gov/geo/tiger/TIGER2019/ZCTA5/tl_2019_us_zcta510.zip\n",
      "    To: zip_codes\n"
     ]
    },
    {
     "ename": "TypeError",
     "evalue": "a bytes-like object is required, not 'str'",
     "output_type": "error",
     "traceback": [
      "\u001b[0;31m---------------------------------------------------------------------------\u001b[0m",
      "\u001b[0;31mTypeError\u001b[0m                                 Traceback (most recent call last)",
      "\u001b[0;32m<ipython-input-9-86bf4956ebab>\u001b[0m in \u001b[0;36m<module>\u001b[0;34m\u001b[0m\n\u001b[1;32m     12\u001b[0m \u001b[0;31m# convert to zipfile format\u001b[0m\u001b[0;34m\u001b[0m\u001b[0;34m\u001b[0m\u001b[0;34m\u001b[0m\u001b[0m\n\u001b[1;32m     13\u001b[0m \u001b[0;31m# z = zipfile.ZipFile(io.BytesIO(r.content))\u001b[0m\u001b[0;34m\u001b[0m\u001b[0;34m\u001b[0m\u001b[0;34m\u001b[0m\u001b[0m\n\u001b[0;32m---> 14\u001b[0;31m \u001b[0mz\u001b[0m \u001b[0;34m=\u001b[0m \u001b[0mzipfile\u001b[0m\u001b[0;34m.\u001b[0m\u001b[0mZipFile\u001b[0m\u001b[0;34m(\u001b[0m\u001b[0mio\u001b[0m\u001b[0;34m.\u001b[0m\u001b[0mBytesIO\u001b[0m\u001b[0;34m(\u001b[0m\u001b[0;34m'tl_2019_us_zcta510.zip'\u001b[0m\u001b[0;34m)\u001b[0m\u001b[0;34m)\u001b[0m\u001b[0;34m\u001b[0m\u001b[0;34m\u001b[0m\u001b[0m\n\u001b[0m\u001b[1;32m     15\u001b[0m \u001b[0;31m# extract the zip contents\u001b[0m\u001b[0;34m\u001b[0m\u001b[0;34m\u001b[0m\u001b[0;34m\u001b[0m\u001b[0m\n\u001b[1;32m     16\u001b[0m \u001b[0;31m# z.extractall(zip_dir, Path().cwd().parent / 'data')\u001b[0m\u001b[0;34m\u001b[0m\u001b[0;34m\u001b[0m\u001b[0;34m\u001b[0m\u001b[0m\n",
      "\u001b[0;31mTypeError\u001b[0m: a bytes-like object is required, not 'str'"
     ]
    }
   ],
   "source": [
    "# create title and url for zip code data\n",
    "title = 'US Census Data - Zip Code Boundaries'\n",
    "url = 'https://www2.census.gov/geo/tiger/TIGER2019/ZCTA5/tl_2019_us_zcta510.zip'\n",
    "\n",
    "# construct an output directory for the data\n",
    "zip_dir = 'zip_codes'\n",
    "\n",
    "print(f\"Downloading {title} \\n    From: {url}\\n    To: {zip_dir}\")\n",
    "\n",
    "# get the remote data\n",
    "# r = requests.get(url)\n",
    "# convert to zipfile format\n",
    "z = zipfile.ZipFile(io.BytesIO(r.content))\n",
    "z = zipfile.ZipFile(io.BytesIO('tl_2019_us_zcta510.zip'))\n",
    "# extract the zip contents\n",
    "# z.extractall(zip_dir, Path().cwd().parent / 'data')\n",
    "z.extractall('zip_codes', Path().cwd().parent / 'data')"
   ]
  },
  {
   "cell_type": "code",
   "execution_count": 16,
   "metadata": {},
   "outputs": [
    {
     "data": {
      "text/html": [
       "<div>\n",
       "<style scoped>\n",
       "    .dataframe tbody tr th:only-of-type {\n",
       "        vertical-align: middle;\n",
       "    }\n",
       "\n",
       "    .dataframe tbody tr th {\n",
       "        vertical-align: top;\n",
       "    }\n",
       "\n",
       "    .dataframe thead th {\n",
       "        text-align: right;\n",
       "    }\n",
       "</style>\n",
       "<table border=\"1\" class=\"dataframe\">\n",
       "  <thead>\n",
       "    <tr style=\"text-align: right;\">\n",
       "      <th></th>\n",
       "      <th>ZCTA5CE10</th>\n",
       "      <th>GEOID10</th>\n",
       "      <th>CLASSFP10</th>\n",
       "      <th>MTFCC10</th>\n",
       "      <th>FUNCSTAT10</th>\n",
       "      <th>ALAND10</th>\n",
       "      <th>AWATER10</th>\n",
       "      <th>INTPTLAT10</th>\n",
       "      <th>INTPTLON10</th>\n",
       "      <th>geometry</th>\n",
       "    </tr>\n",
       "  </thead>\n",
       "  <tbody>\n",
       "    <tr>\n",
       "      <th>0</th>\n",
       "      <td>43451</td>\n",
       "      <td>43451</td>\n",
       "      <td>B5</td>\n",
       "      <td>G6350</td>\n",
       "      <td>S</td>\n",
       "      <td>63484186</td>\n",
       "      <td>157689</td>\n",
       "      <td>+41.3183010</td>\n",
       "      <td>-083.6174935</td>\n",
       "      <td>POLYGON ((-83.70873 41.32733, -83.70815 41.327...</td>\n",
       "    </tr>\n",
       "    <tr>\n",
       "      <th>1</th>\n",
       "      <td>43452</td>\n",
       "      <td>43452</td>\n",
       "      <td>B5</td>\n",
       "      <td>G6350</td>\n",
       "      <td>S</td>\n",
       "      <td>121522304</td>\n",
       "      <td>13721730</td>\n",
       "      <td>+41.5157923</td>\n",
       "      <td>-082.9809454</td>\n",
       "      <td>POLYGON ((-83.08698 41.53780, -83.08256 41.537...</td>\n",
       "    </tr>\n",
       "    <tr>\n",
       "      <th>2</th>\n",
       "      <td>43456</td>\n",
       "      <td>43456</td>\n",
       "      <td>B5</td>\n",
       "      <td>G6350</td>\n",
       "      <td>S</td>\n",
       "      <td>9320975</td>\n",
       "      <td>1003775</td>\n",
       "      <td>+41.6318300</td>\n",
       "      <td>-082.8393923</td>\n",
       "      <td>MULTIPOLYGON (((-82.83558 41.71082, -82.83515 ...</td>\n",
       "    </tr>\n",
       "    <tr>\n",
       "      <th>3</th>\n",
       "      <td>43457</td>\n",
       "      <td>43457</td>\n",
       "      <td>B5</td>\n",
       "      <td>G6350</td>\n",
       "      <td>S</td>\n",
       "      <td>48004681</td>\n",
       "      <td>0</td>\n",
       "      <td>+41.2673301</td>\n",
       "      <td>-083.4274872</td>\n",
       "      <td>POLYGON ((-83.49650 41.25371, -83.48382 41.253...</td>\n",
       "    </tr>\n",
       "    <tr>\n",
       "      <th>4</th>\n",
       "      <td>43458</td>\n",
       "      <td>43458</td>\n",
       "      <td>B5</td>\n",
       "      <td>G6350</td>\n",
       "      <td>S</td>\n",
       "      <td>2573816</td>\n",
       "      <td>39915</td>\n",
       "      <td>+41.5304461</td>\n",
       "      <td>-083.2133648</td>\n",
       "      <td>POLYGON ((-83.22229 41.53102, -83.22228 41.532...</td>\n",
       "    </tr>\n",
       "  </tbody>\n",
       "</table>\n",
       "</div>"
      ],
      "text/plain": [
       "  ZCTA5CE10 GEOID10 CLASSFP10 MTFCC10 FUNCSTAT10    ALAND10  AWATER10  \\\n",
       "0     43451   43451        B5   G6350          S   63484186    157689   \n",
       "1     43452   43452        B5   G6350          S  121522304  13721730   \n",
       "2     43456   43456        B5   G6350          S    9320975   1003775   \n",
       "3     43457   43457        B5   G6350          S   48004681         0   \n",
       "4     43458   43458        B5   G6350          S    2573816     39915   \n",
       "\n",
       "    INTPTLAT10    INTPTLON10  \\\n",
       "0  +41.3183010  -083.6174935   \n",
       "1  +41.5157923  -082.9809454   \n",
       "2  +41.6318300  -082.8393923   \n",
       "3  +41.2673301  -083.4274872   \n",
       "4  +41.5304461  -083.2133648   \n",
       "\n",
       "                                            geometry  \n",
       "0  POLYGON ((-83.70873 41.32733, -83.70815 41.327...  \n",
       "1  POLYGON ((-83.08698 41.53780, -83.08256 41.537...  \n",
       "2  MULTIPOLYGON (((-82.83558 41.71082, -82.83515 ...  \n",
       "3  POLYGON ((-83.49650 41.25371, -83.48382 41.253...  \n",
       "4  POLYGON ((-83.22229 41.53102, -83.22228 41.532...  "
      ]
     },
     "metadata": {},
     "output_type": "display_data"
    },
    {
     "name": "stdout",
     "output_type": "stream",
     "text": [
      "CPU times: user 9.83 s, sys: 479 ms, total: 10.3 s\n",
      "Wall time: 10.3 s\n"
     ]
    },
    {
     "data": {},
     "metadata": {},
     "output_type": "display_data"
    },
    {
     "data": {
      "application/vnd.holoviews_exec.v0+json": "",
      "text/html": [
       "<div id='1335'>\n",
       "\n",
       "\n",
       "\n",
       "\n",
       "\n",
       "  <div class=\"bk-root\" id=\"41c2bb65-0209-45d0-a1ee-58f6a57a7976\" data-root-id=\"1335\"></div>\n",
       "</div>\n",
       "<script type=\"application/javascript\">(function(root) {\n",
       "  function embed_document(root) {\n",
       "  var docs_json = {\"94104081-2d3b-404e-aa91-82112fdf7955\":{\"roots\":{\"references\":[{\"attributes\":{\"dimension\":\"lat\"},\"id\":\"1382\",\"type\":\"MercatorTicker\"},{\"attributes\":{\"zoom_on_axis\":false},\"id\":\"1367\",\"type\":\"WheelZoomTool\"},{\"attributes\":{\"dimension\":\"lon\"},\"id\":\"1380\",\"type\":\"MercatorTicker\"},{\"attributes\":{\"data_source\":{\"id\":\"1407\"},\"glyph\":{\"id\":\"1410\"},\"hover_glyph\":null,\"muted_glyph\":{\"id\":\"1412\"},\"nonselection_glyph\":{\"id\":\"1411\"},\"selection_glyph\":null,\"view\":{\"id\":\"1414\"}},\"id\":\"1413\",\"type\":\"GlyphRenderer\"},{\"attributes\":{\"fill_alpha\":{\"value\":0.1},\"fill_color\":{\"value\":\"#1f77b3\"},\"line_alpha\":{\"value\":0.1},\"xs\":{\"field\":\"xs\"},\"ys\":{\"field\":\"ys\"}},\"id\":\"1411\",\"type\":\"MultiPolygons\"},{\"attributes\":{\"active_drag\":\"auto\",\"active_inspect\":\"auto\",\"active_multi\":null,\"active_scroll\":\"auto\",\"active_tap\":\"auto\",\"tools\":[{\"id\":\"1345\"},{\"id\":\"1366\"},{\"id\":\"1367\"},{\"id\":\"1368\"},{\"id\":\"1369\"}]},\"id\":\"1371\",\"type\":\"Toolbar\"},{\"attributes\":{},\"id\":\"1369\",\"type\":\"ResetTool\"},{\"attributes\":{\"margin\":[5,5,5,5],\"name\":\"HSpacer03638\",\"sizing_mode\":\"stretch_width\"},\"id\":\"1336\",\"type\":\"Spacer\"},{\"attributes\":{\"source\":{\"id\":\"1407\"}},\"id\":\"1414\",\"type\":\"CDSView\"},{\"attributes\":{\"fill_alpha\":{\"value\":0.2},\"fill_color\":{\"value\":\"#1f77b3\"},\"line_alpha\":{\"value\":0.2},\"xs\":{\"field\":\"xs\"},\"ys\":{\"field\":\"ys\"}},\"id\":\"1412\",\"type\":\"MultiPolygons\"},{\"attributes\":{\"match_aspect\":true,\"overlay\":{\"id\":\"1370\"}},\"id\":\"1368\",\"type\":\"BoxZoomTool\"},{\"attributes\":{},\"id\":\"1355\",\"type\":\"LinearScale\"},{\"attributes\":{},\"id\":\"1353\",\"type\":\"LinearScale\"},{\"attributes\":{\"text\":\"\",\"text_color\":{\"value\":\"black\"},\"text_font_size\":{\"value\":\"12pt\"}},\"id\":\"1349\",\"type\":\"Title\"},{\"attributes\":{},\"id\":\"1366\",\"type\":\"PanTool\"},{\"attributes\":{\"data\":{\"xs\":[[[{\"__ndarray__\":\"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\",\"dtype\":\"float64\",\"shape\":[497]}]],[[{\"__ndarray__\":\"DPCjAjakYcGHN2yT+KNhwRK254rQo2HBO2LrV7CjYcHvxat+iqNhwdNPXU53o2HBq1BkYiqjYcFicmUpKqNhwdC6JRsqo2HBmZZFIiqjYcH6mqzmK6NhwaV4VIAto2HB/R+sJC+jYcF4Snt0MqNhwQM2u8xOo2HBBHW4XLqjYcEYKYOe6qNhwd2/NpIipGHBFUj1vjWkYcHVxgWmNaRhwYOQtbA1pGHBlkUWjTWkYcExVadXNaRhwTFVp1c1pGHBw9+1LyykYcHzIAy15aNhwfBiyxTAo2HBTw3QbK+jYcFAm0c/X6NhwQWV25xho2HBrIZ7xWSjYcGBP+zGZ6Nhwd1wAQ1to2HBD0xNKXSjYcGaped8pKNhwSeAWUWno2HB3eKD0bGjYcERTUvzvKNhwZCLlYbHo2HBrlmyvtSjYcFrrrtus6Nhwd3ig9Gxo2HBw8aXDbGjYcEEPgtfsKNhwYU2bsmvo2HBD4zgU6+jYcFQCBIJr6NhwbTzwtquo2HBdXLTwa6jYcGQhEO+rqNhwdTDJs3nomHBuqc6CeeiYcG6pzoJ56Jhwat32WrqomHBpdG4IveiYcH4oADl+6JhwUwkpVCsomHByvlSTKOiYcFVSHMOiqJhwTOzLwkmomHB4XzfEyaiYcEKzurZI6JhwZGU4V4fomHB7Y5JpxqiYcGtEhjyGqJhwbPgqwwXomHBqMfvsAmiYcHoDHRo/6Fhwfij3Tn3oWHBbw1C6uyhYcEisivW0aFhwaBRwm6OoWHBn3thdjahYcHc1N28LaFhweiJu+QnoWHBpwjMyyehYcHIwFwQG6FhwWmtuyAYoWHBpwv2yg+hYcGecntJBaFhwVtxSlYCoWHBkfqeHeWgYcGR+p4d5aBhweENOqTcoGHB3UvROoagYcEsX2zBfaBhwXcBAJlzoGHBAVK0v3KgYcE/4t0DdKBhwQFStL9yoGHBiIRx22mgYcHA2KwJW6BhwZYeBaxJoGHBY9/aWy+gYcGpAS1ZIqBhwYaIMXUhoGHBQoy+5R6gYcGYEGEbGKBhwVCInIX5n2HBjFKdxuyfYcFC5SKI6J9hwTHvmObdn2HB/rEC+9ufYcEcfovO0J9hwZFdMt3Cn2HB4msPALqfYcFwChZnsp9hwdwqY4apn2HBVYi3CoafYcHw/lAIgZ9hwer0UYx6n2HB6vRRjHqfYcE8K6KBep9hwdBtNcxNn2HBr3xjJTifYcGSNnAqFp9hwWC9bt0Jn2HBxgMYtuueYcFzmUTCyZ5hwbDwLKSonmHBDnO+KY+eYcEDsDxxY55hwYnjjycqnmHBEm4bSxueYcHfLvH6AJ5hwV+8I2nUnWHBMr6lksqdYcHL1R7Asp1hwW64AQmvnWHB3PsDl66dYcFXVi4co51hwZt9Pn2WnWHB2UKBWomdYcFz7jPxdZ1hwd0duztunWHBS2Z7LW6dYcGdnMsibp1hwfsbM6lsnWHBB2oInmudYcGs1qiIa51hwTQx2XZrnWHBvrtkmlydYcHrgjVzXJ1hwWcKkS5anWHBuUDhI1qdYcFSlMWyTJ1hwWiXeM9FnWHBvb6OmUSdYcHiipohP51hwfY1fzY+nWHBJGkWpjmdYcHmBrQyEZ1hwUfS2ZTwnGHBEaBVC7+cYcFyNmLUrJxhwfMsMdqTnGHBu0Io3oWcYcEaVDVpcJxhwSSnyMFvnGHBSwcOs26cYcEV2bHybZxhwZbRFF1tnGHBltEUXW2cYcFyYpVAbZxhwU7zFSRtnGHB10iIrmycYcHq+ConbJxhwch/L0NrnGHBnKkkP2qcYcEYJwQzZ5xhwfIoCRFjnGHBKbmvoF6cYcGJKd37W5xhwYokH5hbnGHBueFzqVqcYcHW6WfeWZxhwakd2aFZnGHBelvGLFqcYcFp/jNYVJxhwR+RuRlQnGHBGIe6nUmcYcFOEzlkFJxhwYEe4LUMnGHBcIqg4/ybYcHr5l7NCZxhwbyGlicFnGHB9/jIYP6bYcGKDZXa+Jthwerkymjxm2HBuKc0fe+bYcFpU3Ax7ZthwWPnJubrm2HB948syeqbYcGUlUHM6ZthwU2txsvom2HB2Pi8juebYcE0h15A55thwVCUENnmm2HBtX/BquabYcGSC4Qq5pthwcDSVAPmm2HBJL4F1eWbYcHc2kg45ZthwSeqDUbkm2HBYMRxd+ObYcFEsgF745thwfJ7sYXjm2HBKNpoe9WbYcGMLCKA0JthwZlwe63Om2HB7pLTE82bYcGhOVFkypthwXZZypjIm2HBdsWQL8SbYcHK5+iVwpthwYP/bZXBm2HBVKkht72bYcEyK2hvvJthwc8rvw67m2HByMQzJ7qbYcEWgACmt5thwc+XhaW2m2HBEQV9L7WbYcELmTPks5thwRFnx/6vm2HBhYLZbqybYcELXciCqZthwX6HFB6nm2HBy0xdZKWbYcFTp41SpZthwRKXIjShm2HBl3bPq56bYcEawK5Vf5thwe+oeoxzm2HBaD18DlqbYcFl2J8Q/pphwfx2KSz8mmHB6rwK7PuaYcEqOTyh+5phwf1srWT7mmHBtYnwx/qaYcFrq/GO+pphwaXAl1z5mmHBNe4ZyfWaYcF2ZY0a9ZphwfhYMiH0mmHBjAE4BPOaYcEs+BLc8JphwZHeBUrwmmHBAxPOrO6aYcE7I7YW7ZphwWGNd8/smmHBYoi5a+yaYcGsYfpA7JphwdDLu/nrmmHBUcncx+uaYcF2M56A65phwZM7krXqmmHBhG175uiaYcEkX5ha5pphwfTRnn7YmmHBcqp2ebeaYcGD1Rm0s5phwW7BmAehmmHB/P1Un56aYcGrhtvkk5phwbFe68aQmmHBDe2MeJCaYcEFWdBahpphwTutC4l3mmHBc8dvunaaYcHIUNBTcJphwdzJxc5lmmHBgKIsUGGaYcHtsz9EV5phwSHvQctAmmHBY8NBiDqaYcHbxZ0FNZphwe7cSLEvmmHBJ1n3sSmaYcGgH+jNGZphwYhgiHUTmmHBs5jdSA+aYcHPFhTcCpphwff5xKb0mWHB3zplTu6ZYcH1282b7JlhwQp9NunqmWHBpP1LruaZYcGg31Sj3plhwbEBErGpmWHBxsnvBmiZYcHIhjLdRJlhwXyD6tAjmWHBaJ/EWQKZYcFKY00m4Zhhwc4QCwTVmGHBSTSIi7+YYcHVPlWJs5hhwdSqGyCvmGHBmvt/u2KYYcE0fJWAXphhwWUqsGZcmGHBLQuO0VyYYcG2PUvtU5hhwejYA98fmGHBUDsQXvGXYcH2ovLk8JdhwQAAAgXxl2HBa1I+vvGXYcFp/y0a+JdhwR6XcT/0l2HBA4BD3/OXYcGERrev6ZdhwUPI8ZXRl2HBP98TJLuXYcEX8FItuJdhwXPgPq6yl2HBJiC0y7SXYcGVXvj1s5dhwS/fDbuvl2HBKm4GDK6XYcGPIgrgo5dhwa6CzBydl2HBroLMHJ2XYcGY4WPPnpdhwV5vMZall2HBCj6fBKaXYcHfZ5QApZdhweJO3g2jl2HB0lOWCJiXYcH4JGD0kpdhwS9EgomSl2HBLPFx5ZiXYcEIG+qVnZdhwTAPafCgl2HBjx1MfKOXYcGia6QlqJdhwaJrpCWol2HBJ0tRnaWXYcGWIPkvkZdhwXEi/g2Nl2HBbA6DyoWXYcH0NsQefJdhwRT50Cpwl2HBtduzc2yXYcG7uIG5aZdhwW39tDpsl2HBlSMjL3mXYcEwbx9bg5dhwerlxCqVl2HBJCPeypyXYcGRDhJRopdhwZ7rYkull2HBcVaBDK+XYcH5UyWPtJdhwZOk3x6/l2HBiklkY9eXYcFLZip73JdhwavRmXLZl2HBWZaLGdmXYcFRm8bI05dhwUMqPGXMl2HBuA6h176XYcFAQV7ztZdhwRa8zy6Wl2HBE57YI46XYcEV8ejHh5dhwV6TfJ99l2HBfC0W2WiXYcHS5tGnU5dhwW669xBJl2HBT49ObUGXYcH/sMx/O5dhwcNzs98zl2HBSEp6KgCXYcHd3Ym0tJZhwS7xJDuslmHBjf8Hx66WYcHbv5KprJZhwZYqKE2llmHBgFfQZZ2WYcGYS0lXlZZhweYL1DmTlmHB6rH0gYaWYcGQSTI+d5ZhwaUftCRnlmHBDvKuA2WWYcH6o1ZaYJZhwW9TojNhlmHBDvKuA2WWYcHV0oxuZZZhwQEVXglilmHBRp64OVCWYcFog3q0TJZhwb6gFLdKlmHB4IqUlUeWYcGZBGRkQZZhwQW3VogklmHBboSTAyKWYcHTOJfXF5Zhwd38rioTlmHBRATDogKWYcEnYUM85pVhwaG2r13alWHBBBijjdaVYcEZuQvb1JVhwa3N11TPlWHBqa/gSceVYcGcB6notZVhwX8vEOmnlWHBSpgXkZOVYcHHEDkhkJVhwXXVKsiPlWHB7OECDYuVYcH3KIY5cZVhwUH9CKtwlWHB+UTp32CVYcEhoHBtX5VhweRxkfhYlWHBTW8pqUeVYcGlfx3lXJVhwc5u3ttflWHBlk+8RmCVYcG+Pn09Y5VhwQms93tnlWHBloGr4GmVYcHD8K2xb5VhwUkve/l/lWHB9D4SLYuVYcHh9wtMn5VhwWzhtz+jlWHB9jvoLaOVYcHs6ug5vJVhwdYUZ1PMlWHBL2HG8OuVYcHyL718/ZVhwX+o5HUFlmHB9hib7hOWYcFAi9OQGJZhwYrI8pkrlmHB3pakwWCWYcHQ9b4oaJZhwVKM18NslmHBSlz52XWWYcGvpDYXcJZhwVCWU4ttlmHBePNufYSWYcE+3sivhZZhwWabmgx/lmHBzawqTG+WYcGN78/RZJZhwSGdkxhklmHB3TkYVmaWYcGTYNeAZpZhwfUC9HVtlmHBfGegK26WYcG7Hz1CeJZhwTPATvB3lmHB/4d2aHaWYcFDG01gZZZhwbu2oKpklmHBqvyBamSWYcFrcRaKY5ZhwbZFmftilmHBwY6wjGGWYcHL5gFJYZZhwUOCVZNglmHBZ/aSE2GWYcH8AOPFWpZhwcm50BJYlmHBB0bSjSiWYcGssnJ4KJZhwVaLXK4plmHBO3nssSmWYcFkyvd3J5ZhwXAYzWwmlmHB0X5+ACOWYcE+MwWJHpZhwX0guzgalmHBJXljlBiWYcF3qvUlGJZhwdufIr8YlmHBtzCjohiWYcFg6v8yQpZhwdCL2aBxl2HBh7KYy3GXYcHjRfjgcZdhwamXWkZul2HBKAYAD2qXYcFL4UXCZZdhwTuEs+1fl2HBKfUxf1CXYcEbUriBP5dhwabcQ6Uwl2HBgTvV7iaXYcG6rQcoIJdhwR4Ff5Abl2HBC7cm5xaXYcFnsY4vEpdhwS/0tmkNl2HBgZEPkgiXYcGXmYASApdhwQJGtwiclmHB3dlh64OWYcHF3pYxc5ZhwZxbnNFrlmHBIjHNgWiWYcHfKt4qZZZhwfBQwwFhlmHBVy06qF+WYcGMx1z/W5ZhwXl3cPE+lmHBy63A5j6WYcFCTtKUPpZhwYwiVQY+lmHB3Q3l6aWWYcGR81/KDpdhwbQKEd8Ul2HB4mrZhBmXYcGTVz7+IZdhwSGR0JY3l2HBblFbeTWXYcG+ZPb/LJdhwVs4HGkil2HBSOrDvx2XYcFdiywNHJdhwXzr7kkVl2HB9O1Kxw+XYcGQ+B0uD5dhwcSaKOjzlmHBMbH5P+qWYcGqqdn145ZhwcNmpenRlmHB2knoGzeWYcEBpW+pNZZhwSYKc/40lmHBhJNWTDSWYcGyVWnBM5ZhwSGUresylmHBdMr94DKWYcGZLwE2MpZhwS3iguAxlmHBWqlTuTGWYcFZs8+AMpZhwXsxicgzlmHB1c5kpTSWYcHBI4CQNZZhwWOfWqY2lmHB82XU3zeWYcE6Uw1EOZZhwW6L5cs6lmHBqyDNczyWYcGLLNHNPpZhwWqkm748lmHByhmHfTqWYcGDLE4ZOZZhwZjSdMo3lmHB7fmKlDaWYcHLdhPpNJZhwfwuqpYzlmHBdMr94DKWYcHjCEILMpZhwS3dxHwxlmHBABE2QDGWYcHTRKcDMZZhwZwbCacwlmHBAQe6eDCWYcHvUVmcMJZhwQxaTdEvlmHBjYILcSCWYcHJDHmH2JVhwbdXGKvYlWHB0m5GC9mVYcFsiFOd2ZVhwSG00CvalWHBQUaCAt2VYcHJqi643ZVhwX7Wq0belWHBdX5ait6VYcHsIyqc3pVhwdEM/DvelWHB5bfgUN2VYcH3bEEt3ZVhwVxY8v7clWHBJi9UotyVYcEUcHf+25VhwWA/PAzblWHBtWZS1tmVYcHIFvVO2ZVhwaWd+WrYlWHBw5tx2NaVYcHhmelF1ZVhwQcvSNDFlWHBwEuLM8WVYcF4XlLPw5Vhwc2FaJnClWHBkevCjcCVYcFhOOpDwpVhweS6ClDFlWHBtJatC8uVYcHN7gQx1pVhwZLomI7YlWHBEfXzh9mVYcGoiQHc1pVhwb0vKI3VlWHBZIjQ6NOVYcFY3W6I2pVhwagi+ajblWHBBjtY/N6VYcH0Hu/s45VhwYr0JQbslWHBElQUWOyVYcH50B9h8JVhwSRF4JX2lWHBSzlf8PmVYcHMAWclCJZhwbzWw+oLlmHB+OLrulKWYcGT/PhMU5ZhwQBKd6JTlmHByCpVDVSWYcGsHaN0VJZhwZloQphUlmHBNH2RxlSWYcG0f3D4VJZhwYa4nx9VlmHBz5aeWFWWYcEYdZ2RVZZhwQ4dTNVVlmHBTaP5UVaWYcFWnr6iW5ZhwVfL79hklmHBvd4TfW2WYcE0hOOObZZhwWBa7pJulmHBufyH02+WYcFDV7jBb5ZhwR3oOKVvlmHBBNEKRW+WYcEykx26bpZhwfEbqmhvlmHBmgPOyXGWYcHMRSIZdJZhwcAGh092lmHBBM7gRYeWYcE4PWbLkpZhwSmrul2blmHB52r0CaaWYcE5qJbHvpZhwZkYxCK8lmHB5tOQobmWYcFozPMLuZZhwck3YwO2lmHBTxJSF7OWYcHBN+BOsJZhwSGoDaqtlmHBb2PaKKuWYcFzRWbSqJZhwS9OsaamlmHBoH27paSWYcE0JsGIo5ZhwfiLG32hlmHBch3z/5+WYcGi1YmtnpZhwWus61CelmHBwNi/fp2WYcGUArV6nJZhwR5TaaGblmHBX8rc8pqWYcEPihA2mpZhwakKJvuVlmHBnMbMzZeWYcHm1rqgoZZhwbUeJPOilmHB+hXZHqWWYcGuS9J0ppZhwe3WPVWnlmHBF7yChKmWYcElKE+EsJZhwc5L3ka9lmHBdavYatSWYcH9qHzt2ZZhwYWmIHDflmHBHNQlkeGWYcHIfkj2CZdhwZV4XwgSl2HBtdeLqjuXYcFNBZHLPZdhwR9r8ShHl2HBNddA3VOXYcG0FYtwXpdhwTInpM1fl2HBtOBx12yXYcGULZ/2eZdhwcWrXqeGl2HBITfWWZ6XYcHoxKMgpZdhwelY3Ympl2HBKXPEb66XYcHlQThHupdhwR0x/6bIl2HBkuBKgMmXYcEgT/ax0JdhwXRLb6rel2HB5ndPqvSXYcFktpk9/5dhwWjUkEgHmGHBDwKc0hSYYcE48VzJF5hhwfO/0KAjmGHBOIzo+jSYYcGMiGHzQphhwdnjdwdemGHBKNoZTZaYYcHwvIscr5hhwdNSTRi1mGHBPSIe+MqYYcEw25rL5JhhwZ9hWoMHmWHB7wrD1xuZYcHTyPelKplhwZ/HzBszmWHBDIOlbEeZYcGtP6lHU5lhwRK/k4JXmWHBq4ck1XaZYcHwsMiagplhwaGTsUyKmWHBqc+fYpqZYcEnDur1pJlhwSjZ0FyzmWHBpxcb8L2ZYcET0/NA0plhwYCOzJHmmWHBzRk+2/KZYcGHlaEOBZphwQwQ2rcfmmHBwm1G4CmaYcG5edNXPZphwfIzgR5ammHB9VF4KWKaYcE3y3/feZphwaAzSIyUmmHBf4B1q6GaYcETYCiMqpphwRVYQCnCmmHBwWIZ+cyaYcH7BjvMz5phwT21WxvZmmHB/v5SaeeaYcFcsKmJ75phwZs462oIm2HBviT/rR2bYcG8bHo7QZthwXgG1Xlbm2HBwkP0gm6bYcGq6gbDk5thwRvE1h6wm2HBknQgwvmbYcFz30TsDpxhwXvmGWktnGHBSgPm6T2cYcEsbgoUU5xhwf6ozZ9rnGHBOebmP3OcYcGE7uyvlJxhwZ2tTAibnGHBQYhH7q6cYcEHsaDm0pxhwTxNV6LnnGHBZTwYmeqcYcGvqZLX7pxhwS7o3Gr5nGHBMQbUdQGdYcHUFej0Bp1hwVQfGe8fnWHBZwj9yUGdYcGD5VMtUJ1hwT+0xwRcnWHBbt92EW+dYcHKnwddeJ1hwUaLQUyJnWHBLpyGvpGdYcGs2tBRnJ1hwZc5aASenWHBAipa7qOdYcGaJwTatJ1hwVPYgKa4nWHBC4n9crydYcEDyqODwZ1hwbUJGaHDnWHBptm3AsedYcFuupVtx51hwVkZLSDJnWHBEcqp7MydYcGal/I54Z1hwfDme9bonWHBgXMeE/idYcE+QpLqA55hwX/wsjkNnmHBp99zMBCeYcF1MVlKEp5hwShxzmcUnmHBzIDi5hmeYcHMgOLmGZ5hweIhSzQYnmHBR6E1bxyeYcH6eza+O55hwZJ54KlMnmHBH+iL21OeYcEPZRqZXZ5hwf80ufpgnmHB8yJPZ2yeYcE9YG5wf55hwTrdApeUnmHBhRoioKeeYcEDWWwzsp5hwZHHF2W5nmHBhYVSnNOeYcH0kzuR4Z5hwXlDjdPtnmHBQSRrPu6eYcFpEyw18Z5hweqkhmz1nmHBzETEL/yeYcFB9A8J/Z5hwbajW+L9nmHB/xWUhAKfYcHbRMqYB59hwcNVDwsQn2HBEzSR+BWfYcFtamSiG59hwfoPvdEsn2HBO77dIDafYcGu6r0gTJ9hwXnpkpZUn2HBUsW4BmCfYcEFBS4kYp9hwXq0ef1in2HBMRLmJW2fYcFm2Tmzcp9hwQUHwoh6n2HBxME90YSfYcH0IHDcuZ9hweyXLVD5n2HBwiUBgAugYcHnwbHSFKBhwSHPbz0roGHB1yzcZTWgYcG6lwCQSqBhwf5jGOpboGHBILJ2/GugYcFPEj+icKBhwcr9eJGBoGHB/Hs4Qo6gYcHayGVhm6BhwbxooySioGHBzrb7zaagYcGZtdBDr6BhwTckgt7BoGHB6mP3+8OgYcGdo2wZxqBhwduexlnzoGHBB6x+W/6gYcEiidW+DKFhwe+HqjQVoWHBRdcz0RyhYcEqlWifK6FhwZMySuU3oWHBUh+1x0uhYcGpbj5kU6FhwWLqoZdloWHBqgnKlXChYcHxIzQwe6FhwVejHmt/oWHBCO0PUIKhYcHBnYwchqFhwQeQg+SHoWHBQKUpsoahYcES4xY9h6FhwY757f2IoWHBZzdePY+hYcHak5lylqFhwZhT0x6hoWHBbHgKt5+hYcHbwMqon6FhwbDlAUGeoWHBe60puZyhYcFYOew4nKFhwVyHPnmVoWHByprl0aOhYcHicmNMJaJhwVKD4KVLomHBv9Be+0uiYcEQDG1UTKJhwQGAfRSeomHB9FXYo+qiYcFXi5hnJqNhwbqAxQAno2HBg1zlByejYcFoSnULJ6NhwYnN7LYoo2HBQO/tfSijYcFXi5hnJqNhwc+INoEgo2HBmlH0k+6iYcGUcpLp2KJhweVCcEatomHBK+pZUiqiYcFqcAfPKqJhwcUIJUgromHBPKk29iqiYcGYN9inKqJhwX4laKsqomHBx/6ogCqiYcEP2OlVKqJhwTRHaXIqomHBkNrIhyqiYcHraGo5KqJhwVPbrq1FomHBl+GdBEmiYcFLF5daSqJhwWYuxbpKomHBpbRyN0uiYcEJqp/QS6JhwT7Y+5BMomHBfWNncU2iYcFxGlDgTqJhwaRSKGhQomHBLLySgVGiYcFTFxoPUKJhwVC7Iz4lomHBZxtjxhiiYcHzyKNYEqJhwZ4IlsEOomHBwaqaEuihYcFCFIJ346Fhwc9QPg/hoWHBR1OajNuhYcGRJx3+2qFhwTqvivT6oWHBhq0UnRuiYcHy1LOEK6JhwY5QC+YmomHBwFb00x6iYcHUBpdMHqJhwRSDyAEeomHBUwl2fh6iYcGki2nKcqJhwWBogTKwomHB1CFJ07GiYcGA9XSlsqJhwWTtgHCzomHBdKxdFLSiYcH0rjxGtKJhwc5Ee420omHB2KGKrbSiYcEq2NqitKJhwU9HWr+0omHBlyVZ+LSiYcFoY0aDtaJhwehlJbW1omHBuqMSQLaiYcF/kyrWt6JhwfuPMlXiomHBK6fp0vOiYcFXhEafDaNhwQ/aymQvo2HBfCwHHjCjYcETwRRyLaNhwfo4Yhcxo2HBZ/Q6aEWjYcFjoSrES6NhwX1gihxSo2HBV4/AMFejYcHiEWTxX6NhwUf9FMNfo2HBu7uax2GjYcH8absWa6NhwdeY8Spwo2HBYGF8FISjYcEWv+g8jqNhwfQLFlybo2HBIOIgYJyjYcHOq9BqnKNhwft3X6eco2HB6ML+ypyjYcExof0DnaNhwYPcC12do2HBieFMdaOjYcE18eOorqNhwbT4gD6vo2HBM/tfcK+jYcHhxA97r6NhwXveHA2wo2HBH1B7W7CjYcG5aYjtsKNhwae55XSxo2HBcJUFfLGjYcGLp3V4saNhwUsmhl+xo2HB+fTzzbGjYcFlRzCHsqNhwe6hYHWyo2HBCqpUqrGjYcGV+gjRsKNhwV7WKNiwo2HBYWJ63syjYcF6OGT0NaRhwXDbVNQ1pGHBp/80zTWkYcHLbrTpNaRhwQzwowI2pGHB\",\"dtype\":\"float64\",\"shape\":[1014]},{\"__ndarray__\":\"5F1t89qhYcHmTjPI2aFhwdB2HX3RoWHBOj+clM6hYcELUFjpxaFhwchJaZLCoWHB8/JCYLqhYcG7zM4CoqFhwU5Io6+XoWHB/BFTupehYcEOzHH6l6FhwXD/nVm7oWHBER7sA8KhYcFfqV1NzqFhwe+mhITZoWHBQeKS3dmhYcFSnLEd2qFhwe2wAEzaoWHBLjLwZNqhYcHA6S9z2qFhwW2z333aoWHByUY/k9qhYcFkW47B2qFhwYjKDd7aoWHB5F1t89qhYcE=\",\"dtype\":\"float64\",\"shape\":[25]},{\"__ndarray__\":\"T5J68HuZYcFhR9vMe5lhwbR9K8J7mWHBEAzNc3uZYcG/ywC3eplhwaWvFPN5mWHB5itGqHmZYcFMDXuyeJlhwcwKnIB4mWHB2FOzEXeZYcEBBwmnb5lhwVKpHzNrmWHBTILay7iYYcFb4yw6dphhwYiq/RJ2mGHBkQJPz3WYYcEbXX+9dZhhwdvbj6R1mGHBt2wQiHWYYcGASDCPdZhhwSS10Hl1mGHBN2oxVnWYYcEJnqIZdZhhwcocswB1mGHB3NET3XSYYcHBv6PgdJhhwd/EbRaMmGHBm0X33BeZYcF+27jYHZlhwUjkCRYnmWHBgJwjeCuZYcHtgpmaMJlhweuR08UxmWHBGvKbazaZYcHlUruwOZlhwXqP+vw8mWHB2adZUECZYcE3wLijQ5lhwWGl/dJFmWHBwz2eAEyZYcGKxq1jUplhwa3T4rBXmWHBsGTyGnSZYcEuCkXheZlhwa0MJBN6mWHBG19gzHqZYcHHLc46e5lhwVrlDUl7mWHB0I+bvnuZYcEYbpr3e5lhwU+SevB7mWHB\",\"dtype\":\"float64\",\"shape\":[51]}]],[[{\"__ndarray__\":\"ReMJyIuWYcEQF/jWhZZhwaMrxFCAlmHBTOH4F3mWYcHVa4Q7apZhwQlybSlilmHBG/qcz1iWYcGuDmlJU5Zhwa4OaUlTlmHBfVuQ/1SWYcGqY4qdX5ZhwTjNd2tmlmHBkmpTSGeWYcHZvpTfY5ZhwepGxIValmHBIaC9F0yWYcGztImRRpZhwXBF/qIvlmHBb3/VnyGWYcHt8jjMHZZhwWh6lIcblmHBxQN41RqWYcEsEEqxCpZhwV8WM58ClmHBXYrhmOaVYcEkpZYA2ZVhwYuxaNzIlWHB1Fi6F7+VYcHyvTq4uJVhwWwYZT2tlWHB7OOWcaOVYcF2+wk2gJVhwc9kYhRflWHBH98FzlGVYcHXYlFkTJVhwfGumF0+lWHBtmzBWTaVYcGyWEYWL5VhwbJYRhYvlWHBsY/zEzmVYcEcjx8pQJVhwSAKo59ClWHBssagEUOVYcFRuL2FQJVhwXkTRRM/lWHBANinMyKVYcEBofo1GJVhwTVA2/AUlWHBBn7IexWVYcFljKsHGJVhwan5opEWlWHBLOE3bPyUYcGQzOg9/JRhwTXSgPUAlWHB1ykQAiqVYcFNbZVEL5VhwQ4UGf43lWHB4hJxKEaVYcEA5kvEU5VhwaBFwzNllWHBLk1mMnGVYcG5zwnzeZVhwU4MST99lWHBw8k4qa+VYcE2X7VA2ZVhweffUyPmlWHBQ+B3mSqWYcHlkv+sNZZhwbiRV9dDlmHBwrlNXlKWYcHP/zrwaJZhwXSZDBFylmHB6n8F6HyWYcF/WvpkhZZhwaTx7FOOlmHBReMJyIuWYcE=\",\"dtype\":\"float64\",\"shape\":[76]}],[{\"__ndarray__\":\"tpI6HACXYcFf5iQU/pZhwZnxThr8lmHBt1bPuvWWYcElAdp78JZhwSmxdovklmHBYyOpxN2WYcHbJQVC2JZhwQdjGHnUlmHBEn/+08mWYcGfjok1vpZhwSWPV7erlmHBsjIcgqSWYcFRkymMhZZhwYfsIh53lmHBCLOW7myWYcGv17tLSZZhwW0uWWBAlmHB2qZ0hzGWYcFFBlcHG5Zhwcgf23sKlmHBmxfh3f+VYcHJrMIc9pVhwXAKKdz0lWHBye2eNxSVYcGPPW04+JRhwVXE6DbmlGHBW5z4GOOUYcEAZiVv3ZRhwToSL6XIlGHBJ8TW+8OUYcE5R0g+upRhwTUpUTOylGHBBgNgip+UYcEntjJrkpRhwS+vY1d/lGHBjykNen2UYcElJSMBdpRhwfOrIbRplGHBFGSy+FyUYcGZQ19wWpRhwSuSAudGlGHB/4kISTyUYcHemsoGP5RhwdtMeMZFlGHBYrEkfEaUYcHqrsj+S5RhweLqsKtQlGHBRqYGSF+UYcFZYCWIX5RhwY0sN3lllGHBd5CMj2eUYcGDcpvtapRhwYIVD4JwlGHBjJ9P2HmUYcG4p0l2hJRhwYsSaDeOlGHBthpi1ZiUYcH/NMxvo5RhwcAXu4q2lGHB30JkLr6UYcHKofvgv5RhwZKC2UvAlGHBu2zc3sKUYcFDaoBhyJRhwctnJOTNlGHBTGyXeuaUYcEksVmCBZVhwbULDSULlWHBiNh1tQ+VYcEPq3xmJJVhwW0xNrU7lWHBIvtodEGVYcFo7V88Q5VhwZzD7fRJlWHBhSdDC0yVYcGFJ0MLTJVhwSYUohtJlWHBV8K8AUeVYcHHAAEsRpVhwTY/RVZFlWHBvzzp2EqVYcFhuMPuS5VhwXMGHJhQlWHBXmWzSlKVYcHAxqZ6TpVhwWp820FHlWHBanzbQUeVYcFqfNtBR5VhwQGq4GJJlWHBPzoKp0qVYcEU+DgMTpVhwQDmS8RTlWHBvnOW1lSVYcEZpascWpVhwTHQ0QtclWHBoEwV/H2VYcH2luA0hZVhwUAEW3OJlWHBZqALxpKVYcFFtovnlZVhwfadMv2dlWHBG6ap5qKVYcE70VKKqpVhwQBfIFGxlWHBBNqjx7OVYcEVbuOZw5VhwbSba2/LlWHBBglpYtWVYcGXkE075JVhwdPNZtvrlWHBshXWlviVYcHsxQeWFJZhwQZLkPEolmHBYnl7OEaWYcHP+OgnUJZhwRzwIAhYlmHBgzU0RmqWYcGJpjv1a5ZhwWabmgx/lmHBoNizrIaWYcE2s6gpj5Zhwb2A8XajlmHBzR6tELSWYcEjp3cP3pZhwYO1WpvglmHB05PciOaWYcENpMTy5JZhwc0i1dnklmHB08j1IdiWYcFKy1Gf0pZhwfrsz7HMlmHB39pftcyWYcE+6UJBz5Zhwbfrnr7JlmHBH/OyNrmWYcGslncBspZhwWIp/cKtlmHBhKe2Cq+WYcF3xaesq5ZhwVea/giklmHB4+qyL6OWYcHjTP3+nZZhwcmeazaxlmHBH+700riWYcEeYQ0yzZZhwQZtlEDVlmHB5wcUoNuWYcHltAP84ZZhwQjEzK3/lmHBtpI6HACXYcE=\",\"dtype\":\"float64\",\"shape\":[151]}],[{\"__ndarray__\":\"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\",\"dtype\":\"float64\",\"shape\":[238]}]],[[{\"__ndarray__\":\"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\",\"dtype\":\"float64\",\"shape\":[285]}]],[[{\"__ndarray__\":\"cfxg5ZCrYcGEscHBkKthwZZmIp6Qq2HBu9WhupCrYcFEMNKokKthwbJ4kpqQq2HBaZqTYZCrYcFX4HQhkKthwffP/TB1q2HBK9Eou2yrYcGb+OInCathwXB90CrqqmHBnhAeBciqYcHRdCn5iaphwajxLpmCqmHBMUxfh4KqYcEWOu+KgqphwZY8zryCqmHB+Sw98oKqYcGwU/wcg6phwXovHCSDqmHB8NTrNYOqYcHdH4tZg6phwQvsGZaDqmHB8NmpmYOqYcGmAGnEg6phwcES2cCDqmHBqhmia4uqYcExurmClqphwaA4kdfQqmHBqvZULPyqYcE/b//ZCathwSmj+boaq2HB5c75/SCrYcGNXk9XKathwfLntVkuq2HB1zkkkUGrYcH0eMXDSqthwdtbQ2V6q2HB1+cRt5CrYcFon1HFkKthwWifUcWQq2HBcfxg5ZCrYcH7VpHTkKthwTrYgOyQq2HBcfxg5ZCrYcE=\",\"dtype\":\"float64\",\"shape\":[46]}]]],\"ys\":[[[{\"__ndarray__\":\"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\",\"dtype\":\"float64\",\"shape\":[497]}]],[[{\"__ndarray__\":\"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\",\"dtype\":\"float64\",\"shape\":[1014]},{\"__ndarray__\":\"VbX3snVpU0GzTf/FdWlTQbXXCyZ3aVNBTTtQ0XdpU0FMEyXmeWlTQaKKj/B6aVNBZWsObn1pU0HEqHr6hWlTQf3MbJWJaVNBoElLs79pU0EN7eWh9WlTQWsgkQr2aVNBiEWJ9/VpU0GIRYn39WlTQWsgkQr2aVNB5I950fVpU0EpXc5o9WlTQc2Jj9D0aVNBEwVBEvRpU0GAubO78mlTQdLbHobhaVNBAYSo28xpU0HoBA6/omlTQVgu+KyOaVNBVbX3snVpU0E=\",\"dtype\":\"float64\",\"shape\":[25]},{\"__ndarray__\":\"zVueHt5nU0HFulUa2WdTQXCfBDbYZ1NBCvX1adJnU0E6T290yGdTQYr+CD7AZ1NBxNgQfr1nU0EdLX7CtGdTQQJ1bimzZ1NBwWPuwKdnU0G/N0cfb2dTQeRzbX1MZ1NB8GB5N0hnU0Gq3B4tR2dTQbhxMXZaZ1NBpqybIX1nU0HFvHg/lWdTQY2DlCqeZ1NB+pXjPsFnU0FXZZ75yGdTQXOTYcfQZ1NBvuwDPN9nU0FIW0rM92dTQf7FTngPaFNBGx4JbS5oU0HUDVFrN2hTQcyEOx9CaFNBIHyGc4JoU0E1k0BbfGhTQVJSvepyaFNBVxq1ym5oU0EBg8LjamhTQarqdBJqaFNBYlaaxGdoU0E4lCmUZmhTQXUU3MJlaFNBksWqPWVoU0HcKRkOZWhTQdwpGQ5laFNB3CkZDmVoU0ElSy5HZWhTQSXnv3ZlaFNBJ8h7GGZoU0FeQvgOZmhTQYfnOIxHaFNBeievFSFoU0H1klYrDmhTQTLDgd0LaFNBU5saR/dnU0F2EbUw6GdTQc1bnh7eZ1NB\",\"dtype\":\"float64\",\"shape\":[51]}]],[[{\"__ndarray__\":\"LB/8BNCFU0HoTH7z4YVTQQPH/sXohVNBoz996ueFU0EcQfpg34VTQTmVezzghVNBdTeJ/fiFU0Hj3h31FYZTQRPaO8gihlNByTrAbCqGU0Go6GDtOIZTQVxRJ1xThlNBYAoNC3KGU0HErd75g4ZTQR6VIiiUhlNBc/qWqaiGU0Ep0UMFsoZTQU6EJz3ChlNBzsBfY96GU0ES4BX394ZTQTEwQRAdh1NB5R2olSiHU0HPrH3bfYdTQTA7R++Oh1NBM3vs1aaHU0FppE2ErodTQXkVSCHCh1NBC/k8fcuHU0Hyhv3Gz4dTQSGl4w/Oh1NBA9b2Q8uHU0H1c7tFwYdTQUzV2V+vh1NBVKsYmp+HU0HabaN8mYdTQUeSaOl6h1NB9Z2H11+HU0FywG6APYdTQQNEP9YWh1NBYJJiJeyGU0HsZfr31oZTQbIz6sjAhlNB+hkMIISGU0HdhFFSb4ZTQTnJcBZGhlNBVhkozaiFU0GKumttkYVTQa0SSo+DhVNBVrNrWHmFU0HXjM3IcoVTQbSTMDlshVNBb8TKGTGFU0F1cTBXKIVTQRXHgx0ihVNBs6nN+GGFU0EFiHtDYYVTQZiz4bNahVNBtOLs40mFU0GakQmOSYVTQSboMb5PhVNBEi9DNU2FU0Gy5DZaUoVTQfyFunlOhVNB2/bo9EKFU0H2nh6tP4VTQXuR/lpHhVNByaX8DZGFU0H+MrxHl4VTQcml/A2RhVNBtofac36FU0HCUKBed4VTQSYlLW16hVNBSfWLDH+FU0EFkGr6ioVTQYtyi9a5hVNBLB/8BNCFU0E=\",\"dtype\":\"float64\",\"shape\":[76]}],[{\"__ndarray__\":\"P6vgL158U0GTqV0KgHxTQac302+LfFNBtKY3o5t8U0Ecpf1zonxTQfqa5ja6fFNBwJa38sx8U0GEq1bS5HxTQUn5+fjrfFNBC8GsFQB9U0Fe6U9VH31TQa3N2gRRfVNBUB/QI219U0HC6S2W431TQeC8Qdr+fVNBIkRTfAx+U0F4WA/VG35TQV9hrR0gflNBYbs7SDB+U0GsZYQeTn5TQRhMsFJeflNBqvZYCWB+U0Fl0utcWH5TQQZndslUflNBnIIHwKh+U0Gxr+z46H5TQe0ESeIMf1NBfwnnhQ5/U0GNcnCPDn9TQWTGrRwBf1NBQjCI9gB/U0ETyWoLD39TQdmBP5cgf1NBqHCcly1/U0GsIyslLX9TQWu1LTk0f1NBw2/4hjV/U0Gbi1z3On9TQajS45lIf1NBHQmKvkd/U0H1Ih7NRH9TQdsSqiYuf1NBApMg4Rh/U0H0ZWGKEX9TQbbAmYL/flNBiqc6nP1+U0F7w6sSx35TQQy+11W0flNBBO4BX5p+U0FYbZLsmX5TQUnMKguIflNBceHByXt+U0Fk4ZoLaH5TQZvGbk1HflNBQ7S77iZ+U0HisR2FEn5TQZRZE1ECflNBbe8BEv59U0H3bqsx5n1TQd+nnH/NfVNB8EQ/hLZ9U0FeBKg8n31TQfDdwYmZfVNBnbDpFoV9U0F8YpW9e31TQYRn9wZ6fVNBjt3JQIF9U0HqUF1gsX1TQWodlo6wfVNBADN87K99U0GoCPZ4lH1TQXjwcyprfVNBXe/5gV99U0HwyiX4W31TQZnMj9BafVNBL2e5ElR9U0FPIrLcSH1TQQz2A3lFfVNBw1DrPEN9U0HLQhl/PH1TQdmos5k0fVNBY9n29R59U0F5nf5QHH1TQQYEeJ8DfVNB75UuHeR8U0GGdXeRxHxTQUBJxauhfFNBewy8hod8U0FgydnWg3xTQRk4jF9efFNB+gtr8lp8U0GXSHHpMnxTQfiz5mIdfFNBNF5BXRl8U0GOhSTADnxTQX1Lo+AKfFNBQg6+wu57U0FGWdKj2HtTQW4msFbDe1NBaagBGbl7U0Gr+7wft3tTQdDRIvyxe1NBtY/e5K57U0HBJVxOm3tTQU9Efeh6e1NB7M0KmHd7U0HgUqjjYntTQcQ/na9Ye1NBmenwD0x7U0FsGSYWNXtTQdwq53EQe1NBpQuLzPF6U0G8uD2llnpTQXxnLRp9elNBwRzT/lp6U0HlFihPQnpTQe6raLkuelNBfxX6TRB6U0HE7hmDDXpTQYMs4e7zeVNBcGUO1e55U0GvPGFD7HlTQaXTTKzleVNB4prDT+B5U0HlExxyyHlTQUo845bHeVNBpn0iZ855U0FyHyed9nlTQVSTLP/4eVNBLTJolyN6U0HpE9xgQXpTQe/XliNaelNBS3v4jYV6U0FHC3bppXpTQTUfICvBelNBKYtY/eR6U0GJ5bH1AXtTQW3iHoEbe1NBZ12jeTh7U0EIONuQa3tTQQbBClmVe1NBiV42+qJ7U0EN5O0V0ntTQSvz8vb4e1NBDLAqKwN8U0FlUAFqB3xTQakuf8wQfFNBsg6c7CB8U0FKInYrJXxTQa0t2CpNfFNBP6vgL158U0E=\",\"dtype\":\"float64\",\"shape\":[151]}],[{\"__ndarray__\":\"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\",\"dtype\":\"float64\",\"shape\":[238]}]],[[{\"__ndarray__\":\"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\",\"dtype\":\"float64\",\"shape\":[285]}]],[[{\"__ndarray__\":\"cpfZhaprU0GlN1kB5mtTQQKHR239a1NBlhPVWEBsU0EjLSi9T2xTQfZElh1bbFNBsudTk3JsU0EDPFLEt2xTQX678ga4bFNBsE0FLbhsU0E2fu0IumxTQVqWoHG6bFNBwDT0HLtsU0EKXegKvGxTQc1Ndie8bFNBLQz81q1sU0GvRnO0imxTQfnf9SBLbFNB930QBeBrU0EUr8UpwWtTQbC9i0C7a1NBv14KNK5rU0F5Z0ztgWtTQQYpiw43a1NBUHkSIPlqU0FVltk2tmpTQY077haealNBiAnmA55qU0GR193wnWpTQVhRc/mcalNBFWr3Ap1qU0EwB+fcnGpTQYLuYtOcalNB6h9r5pxqU0GFWkqanGpTQUgpQoecalNBOX2lRJxqU0HqxjFhnGpTQeB7z3ybalNBRwI7TZtqU0HEUM48qGpTQTcuThz1alNBr6JgrzZrU0Gat8UwZWtTQcIF2AyZa1NBcpfZhaprU0E=\",\"dtype\":\"float64\",\"shape\":[46]}]]]},\"selected\":{\"id\":\"1408\"},\"selection_policy\":{\"id\":\"1418\"}},\"id\":\"1407\",\"type\":\"ColumnDataSource\"},{\"attributes\":{\"tile_source\":{\"id\":\"1400\"}},\"id\":\"1403\",\"type\":\"TileRenderer\"},{\"attributes\":{\"axis\":{\"id\":\"1361\"},\"dimension\":1,\"grid_line_color\":null,\"ticker\":null},\"id\":\"1364\",\"type\":\"Grid\"},{\"attributes\":{},\"id\":\"1418\",\"type\":\"UnionRenderers\"},{\"attributes\":{\"axis_label\":\"y\",\"bounds\":\"auto\",\"formatter\":{\"id\":\"1383\"},\"major_label_orientation\":\"horizontal\",\"ticker\":{\"id\":\"1382\"}},\"id\":\"1361\",\"type\":\"LinearAxis\"},{\"attributes\":{\"attribution\":\"&copy; <a href=\\\"https://www.openstreetmap.org/copyright\\\">OpenStreetMap</a> contributors\",\"url\":\"http://c.tile.openstreetmap.org/{Z}/{X}/{Y}.png\"},\"id\":\"1400\",\"type\":\"WMTSTileSource\"},{\"attributes\":{\"axis\":{\"id\":\"1357\"},\"grid_line_color\":null,\"ticker\":null},\"id\":\"1360\",\"type\":\"Grid\"},{\"attributes\":{\"bottom_units\":\"screen\",\"fill_alpha\":0.5,\"fill_color\":\"lightgrey\",\"left_units\":\"screen\",\"level\":\"overlay\",\"line_alpha\":1.0,\"line_color\":\"black\",\"line_dash\":[4,4],\"line_width\":2,\"render_mode\":\"css\",\"right_units\":\"screen\",\"top_units\":\"screen\"},\"id\":\"1370\",\"type\":\"BoxAnnotation\"},{\"attributes\":{\"children\":[{\"id\":\"1336\"},{\"id\":\"1348\"},{\"id\":\"1447\"}],\"margin\":[0,0,0,0],\"name\":\"Row03634\",\"tags\":[\"embedded\"]},\"id\":\"1335\",\"type\":\"Row\"},{\"attributes\":{\"end\":5124911.451942811,\"min_interval\":5,\"reset_end\":5124911.451942811,\"reset_start\":5042570.2214906365,\"start\":5042570.2214906365,\"tags\":[[[\"y\",\"y\",null]]]},\"id\":\"1342\",\"type\":\"Range1d\"},{\"attributes\":{},\"id\":\"1408\",\"type\":\"Selection\"},{\"attributes\":{\"axis_label\":\"x\",\"bounds\":\"auto\",\"formatter\":{\"id\":\"1381\"},\"major_label_orientation\":\"horizontal\",\"ticker\":{\"id\":\"1380\"}},\"id\":\"1357\",\"type\":\"LinearAxis\"},{\"attributes\":{\"callback\":null,\"renderers\":[{\"id\":\"1413\"}],\"tags\":[\"hv_created\"],\"tooltips\":null},\"id\":\"1345\",\"type\":\"HoverTool\"},{\"attributes\":{\"end\":-9206289.290853972,\"min_interval\":5,\"reset_end\":-9206289.290853972,\"reset_start\":-9328606.523948489,\"start\":-9328606.523948489,\"tags\":[[[\"x\",\"x\",null]]]},\"id\":\"1341\",\"type\":\"Range1d\"},{\"attributes\":{\"dimension\":\"lon\"},\"id\":\"1381\",\"type\":\"MercatorTickFormatter\"},{\"attributes\":{\"fill_color\":{\"value\":\"#1f77b3\"},\"xs\":{\"field\":\"xs\"},\"ys\":{\"field\":\"ys\"}},\"id\":\"1410\",\"type\":\"MultiPolygons\"},{\"attributes\":{\"align\":null,\"below\":[{\"id\":\"1357\"}],\"center\":[{\"id\":\"1360\"},{\"id\":\"1364\"}],\"frame_height\":300,\"frame_width\":445,\"left\":[{\"id\":\"1361\"}],\"margin\":null,\"match_aspect\":true,\"min_border_bottom\":10,\"min_border_left\":10,\"min_border_right\":10,\"min_border_top\":10,\"plot_height\":null,\"plot_width\":null,\"renderers\":[{\"id\":\"1403\"},{\"id\":\"1413\"}],\"sizing_mode\":\"fixed\",\"title\":{\"id\":\"1349\"},\"toolbar\":{\"id\":\"1371\"},\"x_range\":{\"id\":\"1341\"},\"x_scale\":{\"id\":\"1353\"},\"y_range\":{\"id\":\"1342\"},\"y_scale\":{\"id\":\"1355\"}},\"id\":\"1348\",\"subtype\":\"Figure\",\"type\":\"Plot\"},{\"attributes\":{\"margin\":[5,5,5,5],\"name\":\"HSpacer03639\",\"sizing_mode\":\"stretch_width\"},\"id\":\"1447\",\"type\":\"Spacer\"},{\"attributes\":{\"dimension\":\"lat\"},\"id\":\"1383\",\"type\":\"MercatorTickFormatter\"}],\"root_ids\":[\"1335\"]},\"title\":\"Bokeh Application\",\"version\":\"2.0.2\"}};\n",
       "  var render_items = [{\"docid\":\"94104081-2d3b-404e-aa91-82112fdf7955\",\"root_ids\":[\"1335\"],\"roots\":{\"1335\":\"41c2bb65-0209-45d0-a1ee-58f6a57a7976\"}}];\n",
       "  root.Bokeh.embed.embed_items_notebook(docs_json, render_items);\n",
       "  }\n",
       "if (root.Bokeh !== undefined) {\n",
       "    embed_document(root);\n",
       "  } else {\n",
       "    var attempts = 0;\n",
       "    var timer = setInterval(function(root) {\n",
       "      if (root.Bokeh !== undefined) {\n",
       "        clearInterval(timer);\n",
       "        embed_document(root);\n",
       "      } else if (document.readyState == \"complete\") {\n",
       "        attempts++;\n",
       "        if (attempts > 100) {\n",
       "          clearInterval(timer);\n",
       "          console.log(\"Bokeh: ERROR: Unable to run BokehJS code because BokehJS library is missing\");\n",
       "        }\n",
       "      }\n",
       "    }, 10, root)\n",
       "  }\n",
       "})(window);</script>"
      ],
      "text/plain": [
       ":Overlay\n",
       "   .Tiles.I    :Tiles   [x,y]\n",
       "   .Polygons.I :Polygons   [Longitude,Latitude]"
      ]
     },
     "execution_count": 16,
     "metadata": {
      "application/vnd.holoviews_exec.v0+json": {
       "id": "1335"
      }
     },
     "output_type": "execute_result"
    }
   ],
   "source": [
    "%%time\n",
    "# construct path to the shapefile\n",
    "shapefile = f\"{zip_dir}/{zip_dir}.shp\"\n",
    "# load the shapefile into geopandas\n",
    "gdf = gpd.read_file(shapefile, driver=\"shapefile\")\n",
    "# view the head\n",
    "display(gdf.head())\n",
    "gdf.head().hvplot(geo=True, tiles='OSM')"
   ]
  },
  {
   "cell_type": "code",
   "execution_count": null,
   "metadata": {},
   "outputs": [],
   "source": [
    "one_zip = gpd.read_file('data/zip_codes/all_zip')"
   ]
  },
  {
   "cell_type": "code",
   "execution_count": null,
   "metadata": {},
   "outputs": [],
   "source": [
    "for subset_amt in [1, 100, 1000, 10000]:\n",
    "    "
   ]
  },
  {
   "cell_type": "code",
   "execution_count": 12,
   "metadata": {},
   "outputs": [
    {
     "data": {
      "text/plain": [
       "array([    1,   425,   849,  1273,  1697,  2122,  2546,  2970,  3394,\n",
       "        3819,  4243,  4667,  5091,  5516,  5940,  6364,  6788,  7212,\n",
       "        7637,  8061,  8485,  8909,  9334,  9758, 10182, 10606, 11031,\n",
       "       11455, 11879, 12303, 12727, 13152, 13576, 14000, 14424, 14849,\n",
       "       15273, 15697, 16121, 16546, 16970, 17394, 17818, 18242, 18667,\n",
       "       19091, 19515, 19939, 20364, 20788, 21212, 21636, 22061, 22485,\n",
       "       22909, 23333, 23758, 24182, 24606, 25030, 25454, 25879, 26303,\n",
       "       26727, 27151, 27576, 28000, 28424, 28848, 29273, 29697, 30121,\n",
       "       30545, 30969, 31394, 31818, 32242, 32666, 33091, 33515, 33939,\n",
       "       34363, 34788, 35212, 35636, 36060, 36484, 36909, 37333, 37757,\n",
       "       38181, 38606, 39030, 39454, 39878, 40303, 40727, 41151, 41575,\n",
       "       42000])"
      ]
     },
     "execution_count": 12,
     "metadata": {},
     "output_type": "execute_result"
    }
   ],
   "source": [
    "import numpy as np\n",
    "np.linspace(1, 42000, 100, dtype='int')"
   ]
  },
  {
   "cell_type": "code",
   "execution_count": null,
   "metadata": {},
   "outputs": [],
   "source": []
  }
 ],
 "metadata": {
  "kernelspec": {
   "display_name": "Python 3",
   "language": "python",
   "name": "python3"
  },
  "language_info": {
   "codemirror_mode": {
    "name": "ipython",
    "version": 3
   },
   "file_extension": ".py",
   "mimetype": "text/x-python",
   "name": "python",
   "nbconvert_exporter": "python",
   "pygments_lexer": "ipython3",
   "version": "3.8.3"
  }
 },
 "nbformat": 4,
 "nbformat_minor": 4
}
